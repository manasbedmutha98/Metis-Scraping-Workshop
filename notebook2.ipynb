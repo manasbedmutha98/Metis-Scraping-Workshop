{
 "cells": [
  {
   "cell_type": "markdown",
   "metadata": {},
   "source": [
    "# Scrapping quotes\n",
    "<b>Author</b>: Rohit Patil\n",
    "\n",
    "## Introduction\n",
    "In this notebook we will be extracting quotes and their authors from the website (http://quotes.toscrape.com)"
   ]
  },
  {
   "cell_type": "markdown",
   "metadata": {},
   "source": [
    "### Importing Libraries\n",
    "\n",
    "We will import the following libraries for scraping the webpage\n",
    "1. requests: Used for basic get, post operations to the webpage. Here, to get the data from quotes.toscrape.com Servers\n",
    "2. bs4 (BeautifulSoup): To extract the content based on html tags and their attributes\n"
   ]
  },
  {
   "cell_type": "code",
   "execution_count": 48,
   "metadata": {},
   "outputs": [],
   "source": [
    "\n",
    "import requests\n",
    "from bs4 import BeautifulSoup"
   ]
  },
  {
   "cell_type": "markdown",
   "metadata": {},
   "source": [
    "Defining two variables for inputs:\n",
    "tag (tag to search for a quote)\n",
    "index (the number of quote which we want to extract)\n",
    "\n",
    "We define modindex = index -1 as indexing starts from 0 in python"
   ]
  },
  {
   "cell_type": "code",
   "execution_count": 50,
   "metadata": {
    "scrolled": true
   },
   "outputs": [
    {
     "name": "stdout",
     "output_type": "stream",
     "text": [
      "loved\n",
      "18\n"
     ]
    }
   ],
   "source": [
    "# tag=input(\"Enter the tag for which you want to find quotes\")\n",
    "# index=int(input(\"Enter which quote to show\"))\n",
    "tag=input()\n",
    "index=int(input())\n",
    "modindex=index-1"
   ]
  },
  {
   "cell_type": "markdown",
   "metadata": {},
   "source": [
    "##### Getting the required pages\n",
    "Let's have a look at webpage now. The webpage for every tag is of form <b>http://quotes.toscrape.com/tag/'tag_name'/page/1or2/ </b> and by observation we see that page one contains maximum 10 quotes and remaining quotes are on page 2 we get the html content of webpage by `requests.get()`.\n",
    "\n",
    "The `request.get()` method gets a response object returned by the server based on the given url. Based on the response, we extract its content using bs4 and create what is generally called a `soup`\n",
    "The `soup.prettify()` method prettifies the extracted html content in the soup so that it is clearly legible\n"
   ]
  },
  {
   "cell_type": "code",
   "execution_count": 51,
   "metadata": {
    "scrolled": false
   },
   "outputs": [],
   "source": [
    "if modindex<10:\n",
    "        r = requests.get(\"http://quotes.toscrape.com/tag/\"+tag+\"/\")\n",
    "        c = r.content\n",
    "        soup=BeautifulSoup(c,\"html.parser\")\n",
    "        print(soup)"
   ]
  },
  {
   "cell_type": "markdown",
   "metadata": {},
   "source": [
    "Now that we have the html content, observe that all the data relevant to quotes is in a `span` tag and class `text`\n",
    "and data relevent to the author is in a `class` tag and class `author`\n",
    "The `find_all()` method for the soup object is used here to get all such occurences. It gives us the list of all occurences.\n",
    "we store the list in variable `t`\n"
   ]
  },
  {
   "cell_type": "code",
   "execution_count": 52,
   "metadata": {
    "scrolled": true
   },
   "outputs": [
    {
     "name": "stdout",
     "output_type": "stream",
     "text": [
      "[<span class=\"text\" itemprop=\"text\">“It is better to be hated for what you are than to be loved for what you are not.”</span>, <span class=\"text\" itemprop=\"text\">“This life is what you make it. No matter what, you're going to mess up sometimes, it's a universal truth. But the good part is you get to decide how you're going to mess it up. Girls will be your friends - they'll act like it anyway. But just remember, some come, some go. The ones that stay with you through everything - they're your true best friends. Don't let go of them. Also remember, sisters make the best friends in the world. As for lovers, well, they'll come and go too. And baby, I hate to say it, most of them - actually pretty much all of them are going to break your heart, but you can't give up because if you give up, you'll never find your soulmate. You'll never find that half who makes you whole and that goes for everything. Just because you fail once, doesn't mean you're gonna fail at everything. Keep trying, hold on, and always, always, always believe in yourself, because if you don't, then who will, sweetie? So keep your head high, keep your chin up, and most importantly, keep smiling, because life's a beautiful thing and there's so much to smile about.”</span>, <span class=\"text\" itemprop=\"text\">“You may not be her first, her last, or her only. She loved before she may love again. But if she loves you now, what else matters? She's not perfect—you aren't either, and the two of you may never be perfect together but if she can make you laugh, cause you to think twice, and admit to being human and making mistakes, hold onto her and give her the most you can. She may not be thinking about you every second of the day, but she will give you a part of her that she knows you can break—her heart. So don't hurt her, don't change her, don't analyze and don't expect more than she can give. Smile when she makes you happy, let her know when she makes you mad, and miss her when she's not there.”</span>, <span class=\"text\" itemprop=\"text\">“The opposite of love is not hate, it's indifference. The opposite of art is not ugliness, it's indifference. The opposite of faith is not heresy, it's indifference. And the opposite of life is not death, it's indifference.”</span>, <span class=\"text\" itemprop=\"text\">“It is not a lack of love, but a lack of friendship that makes unhappy marriages.”</span>, <span class=\"text\" itemprop=\"text\">“I love you without knowing how, or when, or from where. I love you simply, without problems or pride: I love you in this way because I do not know any other way of loving but this, in which there is no I or you, so intimate that your hand upon my chest is my hand, so intimate that when I fall asleep your eyes close.”</span>, <span class=\"text\" itemprop=\"text\">“If you can make a woman laugh, you can make her do anything.”</span>, <span class=\"text\" itemprop=\"text\">“The real lover is the man who can thrill you by kissing your forehead or smiling into your eyes or just staring into space.”</span>, <span class=\"text\" itemprop=\"text\">“Love does not begin and end the way we seem to think it does. Love is a battle, love is a war; love is a growing up.”</span>, <span class=\"text\" itemprop=\"text\">“There is nothing I would not do for those who are really my friends. I have no notion of loving people by halves, it is not my nature.”</span>]\n"
     ]
    }
   ],
   "source": [
    "        text = soup.find_all('span',class_=\"text\")\n",
    "        print(text)"
   ]
  },
  {
   "cell_type": "markdown",
   "metadata": {},
   "source": [
    "Hence here we can see all the quotes relevent to input tags are stored in the list <b>t</b>\n",
    "to access the required quote(nth quote):"
   ]
  },
  {
   "cell_type": "code",
   "execution_count": 46,
   "metadata": {},
   "outputs": [
    {
     "name": "stdout",
     "output_type": "stream",
     "text": [
      "“It is not a lack of love, but a lack of friendship that makes unhappy marriages.”\n"
     ]
    }
   ],
   "source": [
    "        try:\n",
    "            print(text[modindex].text)\n",
    "        except:\n",
    "            print('quote not found')"
   ]
  },
  {
   "cell_type": "markdown",
   "metadata": {},
   "source": [
    "Similarly we find the author's name we find the tag `small` and class `author`"
   ]
  },
  {
   "cell_type": "code",
   "execution_count": 53,
   "metadata": {},
   "outputs": [
    {
     "name": "stdout",
     "output_type": "stream",
     "text": [
      "quote not found\n"
     ]
    }
   ],
   "source": [
    "        try:\n",
    "            au = soup.find_all('small',class_=\"author\")\n",
    "            print(\"by\",au[modindex].text)\n",
    "        except:\n",
    "            print(\"quote not found\")"
   ]
  },
  {
   "cell_type": "markdown",
   "metadata": {},
   "source": [
    "Now we write the similar code for quotes on `page 2`"
   ]
  },
  {
   "cell_type": "code",
   "execution_count": 54,
   "metadata": {},
   "outputs": [
    {
     "name": "stdout",
     "output_type": "stream",
     "text": [
      "quote not found\n"
     ]
    }
   ],
   "source": [
    "if modindex>=10:\n",
    "        modindex=modindex-10\n",
    "        r =requests.get(\"http://quotes.toscrape.com/tag/\"+tag+\"/page/2\")\n",
    "        c = r.content\n",
    "        soup = BeautifulSoup(c,\"html.parser\")\n",
    "        t = soup.find_all('span',class_=\"text\")\n",
    "        try:\n",
    "            print(t[modindex].text[1:-1])\n",
    "            au = soup.find_all('small',class_=\"author\")\n",
    "            print(\"by\",au[modindex].text)\n",
    "        except:\n",
    "            print(\"quote not found\")"
   ]
  }
 ],
 "metadata": {
  "kernelspec": {
   "display_name": "Python 3",
   "language": "python",
   "name": "python3"
  },
  "language_info": {
   "codemirror_mode": {
    "name": "ipython",
    "version": 3
   },
   "file_extension": ".py",
   "mimetype": "text/x-python",
   "name": "python",
   "nbconvert_exporter": "python",
   "pygments_lexer": "ipython3",
   "version": "3.6.5"
  }
 },
 "nbformat": 4,
 "nbformat_minor": 2
}
